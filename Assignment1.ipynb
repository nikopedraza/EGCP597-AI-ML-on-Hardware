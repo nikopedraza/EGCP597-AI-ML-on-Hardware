{
 "cells": [
  {
   "metadata": {},
   "cell_type": "markdown",
   "source": [
    "Code Contributors : Niko Pedraza, Adam Torek, Carson Keller\n",
    "Link Tensorflow Documentation(version=2.17): https://www.tensorflow.org/api_docs/python/tf"
   ],
   "id": "9d2be3d6f47e0e1e"
  },
  {
   "metadata": {
    "ExecuteTime": {
     "end_time": "2024-09-09T00:23:06.249289Z",
     "start_time": "2024-09-09T00:23:05.618161Z"
    }
   },
   "cell_type": "code",
   "source": [
    "import tensorflow as tf\n",
    "\n",
    "from tensorflow.keras import layers, models,datasets\n",
    "\n",
    "tensorflow.keras.application\n",
    "import matplotlib.pyplot as plt"
   ],
   "id": "9cae986ffe658c06",
   "outputs": [
    {
     "ename": "ModuleNotFoundError",
     "evalue": "No module named 'tensorflow.keras.applications.mobilenet_v2MobileNetV2'",
     "output_type": "error",
     "traceback": [
      "\u001B[1;31m---------------------------------------------------------------------------\u001B[0m",
      "\u001B[1;31mModuleNotFoundError\u001B[0m                       Traceback (most recent call last)",
      "Cell \u001B[1;32mIn[4], line 5\u001B[0m\n\u001B[0;32m      1\u001B[0m \u001B[38;5;28;01mimport\u001B[39;00m \u001B[38;5;21;01mtensorflow\u001B[39;00m \u001B[38;5;28;01mas\u001B[39;00m \u001B[38;5;21;01mtf\u001B[39;00m\n\u001B[0;32m      3\u001B[0m \u001B[38;5;28;01mfrom\u001B[39;00m \u001B[38;5;21;01mtensorflow\u001B[39;00m\u001B[38;5;21;01m.\u001B[39;00m\u001B[38;5;21;01mkeras\u001B[39;00m \u001B[38;5;28;01mimport\u001B[39;00m layers, models,datasets\n\u001B[1;32m----> 5\u001B[0m \u001B[38;5;28;01mfrom\u001B[39;00m \u001B[38;5;21;01mtensorflow\u001B[39;00m\u001B[38;5;21;01m.\u001B[39;00m\u001B[38;5;21;01mkeras\u001B[39;00m\u001B[38;5;21;01m.\u001B[39;00m\u001B[38;5;21;01mapplications\u001B[39;00m\u001B[38;5;21;01m.\u001B[39;00m\u001B[38;5;21;01mmobilenet_v2MobileNetV2\u001B[39;00m \u001B[38;5;28;01mimport\u001B[39;00m MobileNetv2\n\u001B[0;32m      6\u001B[0m \u001B[38;5;28;01mimport\u001B[39;00m \u001B[38;5;21;01mmatplotlib\u001B[39;00m\u001B[38;5;21;01m.\u001B[39;00m\u001B[38;5;21;01mpyplot\u001B[39;00m \u001B[38;5;28;01mas\u001B[39;00m \u001B[38;5;21;01mplt\u001B[39;00m\n",
      "\u001B[1;31mModuleNotFoundError\u001B[0m: No module named 'tensorflow.keras.applications.mobilenet_v2MobileNetV2'"
     ]
    }
   ],
   "execution_count": 4
  },
  {
   "metadata": {},
   "cell_type": "markdown",
   "source": "Import Cifar100 dataset and normalize",
   "id": "ac349f640ce9cd14"
  },
  {
   "metadata": {
    "ExecuteTime": {
     "end_time": "2024-09-08T23:58:23.136049Z",
     "start_time": "2024-09-08T23:58:15.246158Z"
    }
   },
   "cell_type": "code",
   "source": [
    "#import cifar 100 which means it should have 10 classified/labels of image datasets\n",
    "(train_images_cf100, train_labels_cf100), (test_images_cf100, test_labels_cf100) = datasets.cifar100.load_data()\n",
    "\n",
    "(train_images, train_labels), (test_images, test_labels) = datasets.\n",
    "\n",
    "# Normalize pixel values to be between 0 and 1\n",
    "train_images, test_images = train_images / 255.0, test_images / 255.0"
   ],
   "id": "54193dd58949ce2f",
   "outputs": [
    {
     "name": "stdout",
     "output_type": "stream",
     "text": [
      "Downloading data from https://www.cs.toronto.edu/~kriz/cifar-100-python.tar.gz\n",
      "\u001B[1m169001437/169001437\u001B[0m \u001B[32m━━━━━━━━━━━━━━━━━━━━\u001B[0m\u001B[37m\u001B[0m \u001B[1m5s\u001B[0m 0us/step\n"
     ]
    }
   ],
   "execution_count": 3
  },
  {
   "metadata": {},
   "cell_type": "code",
   "outputs": [],
   "execution_count": null,
   "source": "",
   "id": "9cd8b6e0c713bf29"
  }
 ],
 "metadata": {
  "kernelspec": {
   "display_name": "Python 3",
   "language": "python",
   "name": "python3"
  },
  "language_info": {
   "codemirror_mode": {
    "name": "ipython",
    "version": 2
   },
   "file_extension": ".py",
   "mimetype": "text/x-python",
   "name": "python",
   "nbconvert_exporter": "python",
   "pygments_lexer": "ipython2",
   "version": "2.7.6"
  }
 },
 "nbformat": 4,
 "nbformat_minor": 5
}
